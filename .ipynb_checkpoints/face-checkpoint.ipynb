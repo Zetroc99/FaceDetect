{
 "cells": [
  {
   "cell_type": "code",
   "execution_count": 3,
   "id": "0a4e086a",
   "metadata": {},
   "outputs": [],
   "source": [
    "import tensorflow as tf\n",
    "import mrcnn.config as config\n"
   ]
  },
  {
   "cell_type": "code",
   "execution_count": null,
   "id": "e44c074c",
   "metadata": {},
   "outputs": [],
   "source": [
    "class FaceConfig(config.Config):\n",
    "    NUM_CLASSES = "
   ]
  }
 ],
 "metadata": {
  "kernelspec": {
   "display_name": "objectDetect",
   "language": "python",
   "name": "objectdetect"
  },
  "language_info": {
   "codemirror_mode": {
    "name": "ipython",
    "version": 3
   },
   "file_extension": ".py",
   "mimetype": "text/x-python",
   "name": "python",
   "nbconvert_exporter": "python",
   "pygments_lexer": "ipython3",
   "version": "3.10.4"
  }
 },
 "nbformat": 4,
 "nbformat_minor": 5
}
